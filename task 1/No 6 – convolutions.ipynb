{
 "cells": [
  {
   "cell_type": "code",
   "execution_count": 1,
   "metadata": {},
   "outputs": [],
   "source": [
    "import numpy as np\n",
    "import itertools"
   ]
  },
  {
   "cell_type": "code",
   "execution_count": 2,
   "metadata": {},
   "outputs": [],
   "source": [
    "c = 3"
   ]
  },
  {
   "cell_type": "code",
   "execution_count": 3,
   "metadata": {},
   "outputs": [],
   "source": [
    "# Generate some data\n",
    "np.random.seed(42)\n",
    "lambda1 = np.random.normal(size=(c, c))\n",
    "lambda2 = np.random.normal(size=(c, c))\n",
    "lambda3 = np.random.normal(size=(c, c))\n",
    "G1 = np.random.normal(size=(c, c, c))\n",
    "G2 = np.random.normal(size=(c, c, c))\n",
    "U = np.random.normal(size=(c, c, c, c))"
   ]
  },
  {
   "cell_type": "code",
   "execution_count": 4,
   "metadata": {},
   "outputs": [],
   "source": [
    "def Z_naive(lambda1, lambda2, lambda3, G1, G2, U):\n",
    "    c = lambda1.shape[0]\n",
    "    Z = np.zeros(shape=(c, c, c, c))\n",
    "    for a, b, c, d, e, f, g, h, i, j in itertools.product(*([range(c)]*10)):\n",
    "        Z[a, h, i, j] += lambda1[a, b]*lambda2[d, e]*lambda3[g, h]*G1[c, b, d]*G2[f, e, g]*U[i, j, c, f]\n",
    "    return Z"
   ]
  },
  {
   "cell_type": "code",
   "execution_count": 6,
   "metadata": {},
   "outputs": [
    {
     "data": {
      "text/plain": [
       "(3, 3, 3, 3)"
      ]
     },
     "execution_count": 6,
     "metadata": {},
     "output_type": "execute_result"
    }
   ],
   "source": [
    "Z = Z_naive(lambda1, lambda2, lambda3, G1, G2, U)\n",
    "Z.shape"
   ]
  },
  {
   "cell_type": "code",
   "execution_count": 8,
   "metadata": {},
   "outputs": [
    {
     "data": {
      "text/plain": [
       "['einsum_path', (0, 1), (0, 1), (0, 3), (1, 2), (0, 1)]"
      ]
     },
     "execution_count": 8,
     "metadata": {},
     "output_type": "execute_result"
    }
   ],
   "source": [
    "pa, descri = np.einsum_path('ab, cbd, de, feg, gh, ijcf -> ahij', lambda1, G1, lambda2, G2, lambda3, U)\n",
    "pa"
   ]
  },
  {
   "cell_type": "code",
   "execution_count": 9,
   "metadata": {},
   "outputs": [
    {
     "name": "stdout",
     "output_type": "stream",
     "text": [
      "  Complete contraction:  ab,cbd,de,feg,gh,ijcf->ahij\n",
      "         Naive scaling:  10\n",
      "     Optimized scaling:  6\n",
      "      Naive FLOP count:  3.543e+05\n",
      "  Optimized FLOP count:  2.431e+03\n",
      "   Theoretical speedup:  145.740\n",
      "  Largest intermediate:  8.100e+01 elements\n",
      "--------------------------------------------------------------------------\n",
      "scaling                  current                                remaining\n",
      "--------------------------------------------------------------------------\n",
      "   4                 cbd,ab->acd                 de,feg,gh,ijcf,acd->ahij\n",
      "   4                 feg,de->dfg                    gh,ijcf,acd,dfg->ahij\n",
      "   4                 dfg,gh->dfh                       ijcf,acd,dfh->ahij\n",
      "   5               dfh,acd->acfh                          ijcf,acfh->ahij\n",
      "   6             acfh,ijcf->ahij                               ahij->ahij\n"
     ]
    }
   ],
   "source": [
    "print(descri)"
   ]
  },
  {
   "cell_type": "markdown",
   "metadata": {},
   "source": [
    "**Вопрос:** Какое минимальное количество операций?\n",
    "\n",
    "**Ответ:** $O(\\chi^6)$, или 2.431e+03"
   ]
  },
  {
   "cell_type": "code",
   "execution_count": 10,
   "metadata": {},
   "outputs": [],
   "source": [
    "def Z_tensordot(lambda1, lambda2, lambda3, G1, G2, U):\n",
    "    a1 = np.tensordot(lambda1, G1, (1, 1)) # ab, cbd -> acd\n",
    "    a2 = np.tensordot(lambda2, G2, (1, 1)) # de, feg -> dfg\n",
    "    a3 = np.tensordot(a2, lambda3, 1)      # dfg, gh -> dfh\n",
    "    a4 = np.tensordot(a1, a3, 1)           # acd, dfh -> acfh\n",
    "    a5 = np.tensordot(a4,U, ((1,2), (2,3)))# acfh, ijcf\n",
    "    return a5"
   ]
  },
  {
   "cell_type": "code",
   "execution_count": 11,
   "metadata": {},
   "outputs": [
    {
     "data": {
      "text/plain": [
       "True"
      ]
     },
     "execution_count": 11,
     "metadata": {},
     "output_type": "execute_result"
    }
   ],
   "source": [
    "# Тест на корректность\n",
    "np.isclose(\n",
    "    Z_naive(lambda1, lambda2, lambda3, G1, G2, U),\n",
    "    Z_tensordot(lambda1, lambda2, lambda3, G1, G2, U)\n",
    ").all()"
   ]
  },
  {
   "cell_type": "code",
   "execution_count": 13,
   "metadata": {},
   "outputs": [
    {
     "name": "stdout",
     "output_type": "stream",
     "text": [
      "30.3 µs ± 85.5 ns per loop (mean ± std. dev. of 7 runs, 10,000 loops each)\n"
     ]
    }
   ],
   "source": [
    "%%timeit\n",
    "Z_tensordot(lambda1, lambda2, lambda3, G1, G2, U)"
   ]
  },
  {
   "cell_type": "code",
   "execution_count": 14,
   "metadata": {},
   "outputs": [
    {
     "name": "stdout",
     "output_type": "stream",
     "text": [
      "1.09 ms ± 1.52 µs per loop (mean ± std. dev. of 7 runs, 1,000 loops each)\n"
     ]
    }
   ],
   "source": [
    "%%timeit\n",
    "np.einsum('ab, cbd, de, feg, gh, ijcf -> ahij', lambda1, G1, lambda2, G2, lambda3, U)"
   ]
  },
  {
   "cell_type": "code",
   "execution_count": 15,
   "metadata": {},
   "outputs": [
    {
     "name": "stdout",
     "output_type": "stream",
     "text": [
      "78.9 µs ± 393 ns per loop (mean ± std. dev. of 7 runs, 10,000 loops each)\n"
     ]
    }
   ],
   "source": [
    "%%timeit\n",
    "np.einsum(\n",
    "    'ab, cbd, de, feg, gh, ijcf -> ahij', \n",
    "    lambda1, G1, lambda2, G2, lambda3, U,\n",
    "    optimize = pa\n",
    ")"
   ]
  },
  {
   "cell_type": "code",
   "execution_count": 12,
   "metadata": {},
   "outputs": [
    {
     "name": "stdout",
     "output_type": "stream",
     "text": [
      "42.6 ms ± 311 µs per loop (mean ± std. dev. of 7 runs, 10 loops each)\n"
     ]
    }
   ],
   "source": [
    "%%timeit\n",
    "Z = Z_naive(lambda1, lambda2, lambda3, G1, G2, U)"
   ]
  },
  {
   "cell_type": "markdown",
   "metadata": {},
   "source": [
    "Just for fun, сравним с аналогичным кодом на Julia."
   ]
  },
  {
   "cell_type": "code",
   "execution_count": 16,
   "metadata": {},
   "outputs": [],
   "source": [
    "using TensorOperations, BenchmarkTools\n",
    "using Random: randn"
   ]
  },
  {
   "cell_type": "code",
   "execution_count": 5,
   "metadata": {},
   "outputs": [],
   "source": [
    "c = 3\n",
    "\n",
    "λ1 = randn(c, c)\n",
    "λ2 = randn(c, c)\n",
    "λ3 = randn(c, c)\n",
    "\n",
    "G1 = randn(c, c, c)\n",
    "G2 = randn(c, c, c)\n",
    "U  = randn(c, c, c, c);"
   ]
  },
  {
   "cell_type": "code",
   "execution_count": 22,
   "metadata": {},
   "outputs": [
    {
     "data": {
      "text/plain": [
       "Z_tensor_Julia (generic function with 1 method)"
      ]
     },
     "metadata": {},
     "output_type": "display_data"
    }
   ],
   "source": [
    "function Z_tensor_Julia(λ1, λ2, λ3, G1, G2, U)\n",
    "    @tensor Z[a, h, i, j] := \n",
    "        λ1[a,b] * G1[c,b,d] * λ2[d,e] * G2[f,e,g] * λ3[g,h] * U[i,j,c,f]\n",
    "end"
   ]
  },
  {
   "cell_type": "code",
   "execution_count": 23,
   "metadata": {},
   "outputs": [
    {
     "data": {
      "text/plain": [
       "BenchmarkTools.Trial: 10000 samples with 1 evaluation.\n",
       " Range \u001b[90m(\u001b[39m\u001b[36m\u001b[1mmin\u001b[22m\u001b[39m … \u001b[35mmax\u001b[39m\u001b[90m):  \u001b[39m\u001b[36m\u001b[1m16.083 μs\u001b[22m\u001b[39m … \u001b[35m 3.533 ms\u001b[39m  \u001b[90m┊\u001b[39m GC \u001b[90m(\u001b[39mmin … max\u001b[90m): \u001b[39m0.00% … 97.91%\n",
       " Time  \u001b[90m(\u001b[39m\u001b[34m\u001b[1mmedian\u001b[22m\u001b[39m\u001b[90m):     \u001b[39m\u001b[34m\u001b[1m16.958 μs              \u001b[22m\u001b[39m\u001b[90m┊\u001b[39m GC \u001b[90m(\u001b[39mmedian\u001b[90m):    \u001b[39m0.00%\n",
       " Time  \u001b[90m(\u001b[39m\u001b[32m\u001b[1mmean\u001b[22m\u001b[39m ± \u001b[32mσ\u001b[39m\u001b[90m):   \u001b[39m\u001b[32m\u001b[1m18.206 μs\u001b[22m\u001b[39m ± \u001b[32m59.672 μs\u001b[39m  \u001b[90m┊\u001b[39m GC \u001b[90m(\u001b[39mmean ± σ\u001b[90m):  \u001b[39m5.60% ±  1.70%\n",
       "\n",
       "  \u001b[39m \u001b[39m \u001b[39m \u001b[39m \u001b[39m \u001b[39m▁\u001b[39m \u001b[39m▅\u001b[39m▇\u001b[39m▇\u001b[39m█\u001b[34m▆\u001b[39m\u001b[39m▃\u001b[39m \u001b[39m▂\u001b[39m▁\u001b[39m \u001b[39m \u001b[39m \u001b[39m \u001b[39m \u001b[39m \u001b[39m \u001b[39m \u001b[39m \u001b[39m \u001b[39m \u001b[39m \u001b[32m \u001b[39m\u001b[39m \u001b[39m \u001b[39m \u001b[39m \u001b[39m \u001b[39m \u001b[39m \u001b[39m \u001b[39m \u001b[39m \u001b[39m \u001b[39m \u001b[39m \u001b[39m \u001b[39m \u001b[39m \u001b[39m \u001b[39m \u001b[39m \u001b[39m \u001b[39m \u001b[39m \u001b[39m \u001b[39m \u001b[39m \u001b[39m \u001b[39m \u001b[39m \u001b[39m \u001b[39m \u001b[39m \u001b[39m \n",
       "  \u001b[39m▂\u001b[39m▂\u001b[39m▃\u001b[39m▄\u001b[39m▇\u001b[39m█\u001b[39m▇\u001b[39m█\u001b[39m█\u001b[39m█\u001b[39m█\u001b[34m█\u001b[39m\u001b[39m█\u001b[39m█\u001b[39m█\u001b[39m█\u001b[39m▇\u001b[39m▆\u001b[39m▅\u001b[39m▃\u001b[39m▄\u001b[39m▄\u001b[39m▄\u001b[39m▃\u001b[39m▄\u001b[39m▄\u001b[39m▃\u001b[39m▄\u001b[32m▄\u001b[39m\u001b[39m▄\u001b[39m▃\u001b[39m▃\u001b[39m▂\u001b[39m▃\u001b[39m▂\u001b[39m▂\u001b[39m▂\u001b[39m▂\u001b[39m▂\u001b[39m▂\u001b[39m▂\u001b[39m▂\u001b[39m▂\u001b[39m▂\u001b[39m▂\u001b[39m▂\u001b[39m▂\u001b[39m▂\u001b[39m▂\u001b[39m▂\u001b[39m▂\u001b[39m▂\u001b[39m▁\u001b[39m▂\u001b[39m▂\u001b[39m▂\u001b[39m▂\u001b[39m▂\u001b[39m▂\u001b[39m \u001b[39m▄\n",
       "  16.1 μs\u001b[90m         Histogram: frequency by time\u001b[39m        20.6 μs \u001b[0m\u001b[1m<\u001b[22m\n",
       "\n",
       " Memory estimate\u001b[90m: \u001b[39m\u001b[33m16.98 KiB\u001b[39m, allocs estimate\u001b[90m: \u001b[39m\u001b[33m224\u001b[39m."
      ]
     },
     "metadata": {},
     "output_type": "display_data"
    }
   ],
   "source": [
    "@benchmark Z_tensor_Julia(λ1, λ2, λ3, G1, G2, U)"
   ]
  },
  {
   "cell_type": "code",
   "execution_count": null,
   "metadata": {},
   "outputs": [],
   "source": []
  }
 ],
 "metadata": {
  "kernelspec": {
   "display_name": "Julia 1.8.1",
   "language": "julia",
   "name": "julia-1.8"
  },
  "language_info": {
   "file_extension": ".jl",
   "mimetype": "application/julia",
   "name": "julia",
   "version": "1.8.1"
  },
  "vscode": {
   "interpreter": {
    "hash": "8d489487a004dbbc79692a52da1077223bea5d5bb7772308e4a4df2310821984"
   }
  }
 },
 "nbformat": 4,
 "nbformat_minor": 2
}
