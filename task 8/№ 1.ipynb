{
 "cells": [
  {
   "cell_type": "code",
   "execution_count": 1,
   "metadata": {},
   "outputs": [],
   "source": [
    "import numpy as np"
   ]
  },
  {
   "cell_type": "code",
   "execution_count": 2,
   "metadata": {},
   "outputs": [
    {
     "data": {
      "text/plain": [
       "((20, 15), (20, 15))"
      ]
     },
     "execution_count": 2,
     "metadata": {},
     "output_type": "execute_result"
    }
   ],
   "source": [
    "X1 = np.load('X1.npy')\n",
    "X2 = np.load('X2.npy')\n",
    "\n",
    "X1.shape, X2.shape"
   ]
  },
  {
   "attachments": {},
   "cell_type": "markdown",
   "metadata": {},
   "source": [
    "### Part 1\n",
    "\n",
    "Compute empirical covariance matrices for both timeseries. Do they satisfy Eq. (2)?\n",
    "$$\n",
    "\\Sigma = CC^T + \\alpha \\hat 1 \\tag{2}\n",
    "$$"
   ]
  },
  {
   "cell_type": "code",
   "execution_count": 3,
   "metadata": {},
   "outputs": [
    {
     "data": {
      "text/plain": [
       "(15, 15)"
      ]
     },
     "execution_count": 3,
     "metadata": {},
     "output_type": "execute_result"
    }
   ],
   "source": [
    "# Наверное, в этом пункте нужно использовать np.cov / np.ma.cov\n",
    "naive_cov_X1 = np.cov(X1.T)\n",
    "naive_cov_X1.shape"
   ]
  },
  {
   "cell_type": "code",
   "execution_count": 4,
   "metadata": {},
   "outputs": [
    {
     "data": {
      "text/plain": [
       "masked_array(\n",
       "  data=[[2.4505264175212216, -0.3384539512233684, 1.197095342036254,\n",
       "         -0.6575147210438123, 0.4988174017116548, 0.7389079322354934,\n",
       "         0.478072541405609, 0.5114094912231902, -0.04181648647602972,\n",
       "         -0.8293317887364263, -0.014680617592599558, 0.1470339240128133,\n",
       "         0.2547666184508943, -0.09068333363550443, 0.3576595474895656],\n",
       "        [-0.3384539512233684, 3.5538993875800395, -0.3547076774622889,\n",
       "         1.610531590573879, -0.21356046040406526, 0.42651383377609714,\n",
       "         0.20805823991728375, 0.376417510794167, -0.2220133938184207,\n",
       "         -1.8045208945436, 0.5556168048189818, -0.2716729774963129,\n",
       "         0.8384096658265215, 1.9061746420231231, -0.05405000438008067],\n",
       "        [1.197095342036254, -0.3547076774622889, 1.708070563265975,\n",
       "         -0.28454299484310414, 0.1864341862643171, -0.2049976723860083,\n",
       "         -0.2792337773927089, -0.2941449093337135, 0.26154272211966406,\n",
       "         -0.46883990753986443, -0.1285248973954149, -0.11362300351368353,\n",
       "         -0.62653935759696, -0.14675347485632098, 0.06931892856221002],\n",
       "        [-0.6575147210438123, 1.610531590573879, -0.28454299484310414,\n",
       "         2.856244659857981, -0.9794125353065309, 0.8238701071458828,\n",
       "         -0.5081838252210881, -1.0162733301036635, -0.1950830137344499,\n",
       "         0.0052491651699956175, 1.2465629259550217, 0.17557325080745598,\n",
       "         0.7847650567871517, 0.4772168488425999, 0.10900177564100294],\n",
       "        [0.4988174017116548, -0.21356046040406526, 0.1864341862643171,\n",
       "         -0.9794125353065309, 1.499825458599947, -0.5570822192325868,\n",
       "         0.18790943446937475, 0.7387144890134926, 0.4318174050117045,\n",
       "         0.35338671911299396, -1.1643351642254889, -0.570601087301759,\n",
       "         -0.051282187689720884, -0.5565218491985422, 0.48459490994403487],\n",
       "        [0.7389079322354934, 0.42651383377609714, -0.2049976723860083,\n",
       "         0.8238701071458828, -0.5570822192325868, 2.0946968093313254,\n",
       "         -0.36842531454701266, -0.8648333711486992, -0.05507643601694416,\n",
       "         0.31144411709953673, 0.5784838198055954, 0.8460193443104973,\n",
       "         1.5085115167593914, 0.36784379182050325, -0.017518187503049745],\n",
       "        [0.478072541405609, 0.20805823991728375, -0.2792337773927089,\n",
       "         -0.5081838252210881, 0.18790943446937475, -0.36842531454701266,\n",
       "         1.624903645995127, 1.8479144701140386, 0.22489157595127446,\n",
       "         0.04648221355551313, -0.8238714918476147, -0.056334975393719705,\n",
       "         -0.3714340128815347, 0.07764503511375159, -0.5120192477746743],\n",
       "        [0.5114094912231902, 0.376417510794167, -0.2941449093337135,\n",
       "         -1.0162733301036635, 0.7387144890134926, -0.8648333711486992,\n",
       "         1.8479144701140386, 4.6321432420921465, 0.5871778849986624,\n",
       "         -0.9030959127948476, -1.4128004544770398, 0.08751977428704075,\n",
       "         0.9246528990179027, -0.5652465091302303, -1.2014379014976426],\n",
       "        [-0.04181648647602972, -0.2220133938184207, 0.26154272211966406,\n",
       "         -0.1950830137344499, 0.4318174050117045, -0.05507643601694416,\n",
       "         0.22489157595127446, 0.5871778849986624, 1.095181849135074,\n",
       "         -0.36364849911827607, -0.4400443515064416, 0.8288795638462528,\n",
       "         0.36896295403921003, 0.6037829894192643, -0.7323458654306921],\n",
       "        [-0.8293317887364263, -1.8045208945436, -0.46883990753986443,\n",
       "         0.0052491651699956175, 0.35338671911299396, 0.31144411709953673,\n",
       "         0.04648221355551313, -0.9030959127948476, -0.36364849911827607,\n",
       "         3.401210243604671, -0.7303849634016863, -0.587231355031386,\n",
       "         0.029956426239268436, -1.8328543770527403, -0.17089122865643716],\n",
       "        [-0.014680617592599558, 0.5556168048189818, -0.1285248973954149,\n",
       "         1.2465629259550217, -1.1643351642254889, 0.5784838198055954,\n",
       "         -0.8238714918476147, -1.4128004544770398, -0.4400443515064416,\n",
       "         -0.7303849634016863, 3.3717882681924567, 0.7000516904203092,\n",
       "         0.003463040484065388, 0.07957688434395947, -1.0043742690865936],\n",
       "        [0.1470339240128133, -0.2716729774963129, -0.11362300351368353,\n",
       "         0.17557325080745598, -0.570601087301759, 0.8460193443104973,\n",
       "         -0.056334975393719705, 0.08751977428704075, 0.8288795638462528,\n",
       "         -0.587231355031386, 0.7000516904203092, 2.257490749253453,\n",
       "         1.6834959008029224, 0.25140739797869427, -1.3650183395448232],\n",
       "        [0.2547666184508943, 0.8384096658265215, -0.62653935759696,\n",
       "         0.7847650567871517, -0.051282187689720884, 1.5085115167593914,\n",
       "         -0.3714340128815347, 0.9246528990179027, 0.36896295403921003,\n",
       "         0.029956426239268436, 0.003463040484065388, 1.6834959008029224,\n",
       "         3.7290475853631215, 0.8084672945195213, -0.34256377914486497],\n",
       "        [-0.09068333363550443, 1.9061746420231231, -0.14675347485632098,\n",
       "         0.4772168488425999, -0.5565218491985422, 0.36784379182050325,\n",
       "         0.07764503511375159, -0.5652465091302303, 0.6037829894192643,\n",
       "         -1.8328543770527403, 0.07957688434395947, 0.25140739797869427,\n",
       "         0.8084672945195213, 1.9593395603732409, 0.03726016184855491],\n",
       "        [0.3576595474895656, -0.05405000438008067, 0.06931892856221002,\n",
       "         0.10900177564100294, 0.48459490994403487, -0.017518187503049745,\n",
       "         -0.5120192477746743, -1.2014379014976426, -0.7323458654306921,\n",
       "         -0.17089122865643716, -1.0043742690865936, -1.3650183395448232,\n",
       "         -0.34256377914486497, 0.03726016184855491, 1.9814977519490824]],\n",
       "  mask=[[False, False, False, False, False, False, False, False, False,\n",
       "         False, False, False, False, False, False],\n",
       "        [False, False, False, False, False, False, False, False, False,\n",
       "         False, False, False, False, False, False],\n",
       "        [False, False, False, False, False, False, False, False, False,\n",
       "         False, False, False, False, False, False],\n",
       "        [False, False, False, False, False, False, False, False, False,\n",
       "         False, False, False, False, False, False],\n",
       "        [False, False, False, False, False, False, False, False, False,\n",
       "         False, False, False, False, False, False],\n",
       "        [False, False, False, False, False, False, False, False, False,\n",
       "         False, False, False, False, False, False],\n",
       "        [False, False, False, False, False, False, False, False, False,\n",
       "         False, False, False, False, False, False],\n",
       "        [False, False, False, False, False, False, False, False, False,\n",
       "         False, False, False, False, False, False],\n",
       "        [False, False, False, False, False, False, False, False, False,\n",
       "         False, False, False, False, False, False],\n",
       "        [False, False, False, False, False, False, False, False, False,\n",
       "         False, False, False, False, False, False],\n",
       "        [False, False, False, False, False, False, False, False, False,\n",
       "         False, False, False, False, False, False],\n",
       "        [False, False, False, False, False, False, False, False, False,\n",
       "         False, False, False, False, False, False],\n",
       "        [False, False, False, False, False, False, False, False, False,\n",
       "         False, False, False, False, False, False],\n",
       "        [False, False, False, False, False, False, False, False, False,\n",
       "         False, False, False, False, False, False],\n",
       "        [False, False, False, False, False, False, False, False, False,\n",
       "         False, False, False, False, False, False]],\n",
       "  fill_value=1e+20)"
      ]
     },
     "execution_count": 4,
     "metadata": {},
     "output_type": "execute_result"
    }
   ],
   "source": [
    "X2_masked = np.ma.masked_invalid(X2)\n",
    "naive_cov_X2 = np.ma.cov(X2_masked.T)\n",
    "naive_cov_X2"
   ]
  },
  {
   "attachments": {},
   "cell_type": "markdown",
   "metadata": {},
   "source": [
    "Чтобы определить, соответствуют ли матрицы уравнению (2), посчитаем их собственные числа. Если формула видна, то несколько собственных чисел должны быть одинаковыми и равными $\\alpha$."
   ]
  },
  {
   "cell_type": "code",
   "execution_count": 5,
   "metadata": {},
   "outputs": [
    {
     "data": {
      "text/plain": [
       "array([0.0452363 , 0.1262659 , 0.25504862, 0.52183941, 0.79272858,\n",
       "       0.91984856, 1.25646141, 1.44782525, 2.09109087, 2.67577594,\n",
       "       3.10339724, 3.70359375, 4.9544137 , 5.54719841, 7.8251243 ])"
      ]
     },
     "execution_count": 5,
     "metadata": {},
     "output_type": "execute_result"
    }
   ],
   "source": [
    "np.sort(np.linalg.eigvals(naive_cov_X1))\n",
    "# Нет повторяющихся собственных значений, матрица не соответствует форумуле из задания"
   ]
  },
  {
   "cell_type": "code",
   "execution_count": 6,
   "metadata": {},
   "outputs": [
    {
     "data": {
      "text/plain": [
       "array([-0.58751119, -0.34754566, -0.10019103,  0.43186791,  0.50523143,\n",
       "        0.74795894,  1.19611302,  1.57591731,  1.70585949,  2.67782998,\n",
       "        4.04580859,  4.29361651,  5.5859645 ,  7.63442631,  8.85052008])"
      ]
     },
     "execution_count": 6,
     "metadata": {},
     "output_type": "execute_result"
    }
   ],
   "source": [
    "np.sort(np.linalg.eigvals(naive_cov_X2))\n",
    "# Матрица не соответствует форумуле из задания и, более того, не является положительно определенной"
   ]
  },
  {
   "cell_type": "code",
   "execution_count": 7,
   "metadata": {},
   "outputs": [
    {
     "data": {
      "text/plain": [
       "True"
      ]
     },
     "execution_count": 7,
     "metadata": {},
     "output_type": "execute_result"
    }
   ],
   "source": [
    "# Проверим на всякий случай, что матрица хотя бы симметричная\n",
    "(naive_cov_X2 == naive_cov_X2.T).all()"
   ]
  },
  {
   "attachments": {},
   "cell_type": "markdown",
   "metadata": {},
   "source": [
    "### Part 2\n",
    "\n",
    "Show that if there is no missing data, $LL$ is a function of empirical covariance matrix $\\Sigma_\\text{emp}$ and of $\\Sigma$."
   ]
  },
  {
   "attachments": {},
   "cell_type": "markdown",
   "metadata": {},
   "source": [
    "Доказательство:\n",
    "\n",
    "Правдоподобие является функцией от данных $X$ и от оцениваемого параметра $\\Sigma$. Докажем, что от данных оно зависит только через $\\Sigma_\\text{emp}$.\n",
    "\n",
    "$$\n",
    "LL(\\Sigma, X) = \\frac{1}{T}\\sum_{t=1}^T \\ln P(\\vec x_t | \\Sigma)\n",
    "$$\n",
    "Для многомерного нормального распределения с нулевым средним\n",
    "$$\n",
    "\\ln P(\\vec x | \\Sigma) =\n",
    "- \\frac12 x^T \\Sigma^{-1} x \n",
    "- \\frac12 \\ln \\det(\\Sigma)\n",
    "- \\frac{n}{2} \\ln(2\\pi)\n",
    "$$\n",
    "\n",
    "Последние два слагаемых не зависят от $X$, поэтому\n",
    "$$\n",
    "LL(\\Sigma, X) = - \\frac1{2T} \\underbrace{\\sum_{t=1}^T x_t^T \\Sigma^{-1} x_t}_{S} + g(\\Sigma)\n",
    "$$"
   ]
  },
  {
   "attachments": {},
   "cell_type": "markdown",
   "metadata": {},
   "source": [
    "Осталось вычислить сумму\n",
    "$$\n",
    "S = X_{ti} (\\Sigma^{-1})_{ij} X_{tj} = \\operatorname{Tr}(X^T X \\Sigma^{-1})\n",
    "$$\n",
    "Вспомним, что при нулевых средних (смещённая) оценка ковариационной матрицы методом максимального правдоподобия равна\n",
    "$$\n",
    "\\Sigma_\\text{emp} = \\frac1T X^T X\n",
    "$$\n",
    "\n",
    "Таким образом,\n",
    "$$\n",
    "LL(\\Sigma, X) = \n",
    "- \\frac12 \\operatorname{Tr}(\\Sigma_\\text{emp} \\Sigma^{-1})\n",
    "- \\frac12 \\ln \\det(\\Sigma)\n",
    "- \\frac{n}{2} \\ln(2\\pi)\n",
    "= f(\\Sigma, \\Sigma_\\text{emp})\n",
    "$$"
   ]
  },
  {
   "attachments": {},
   "cell_type": "markdown",
   "metadata": {},
   "source": [
    "### Part 3\n",
    "\n",
    "For the timeseries-1, you thus have to maximize\n",
    "$$\n",
    "LL(C C^T + \\alpha \\hat 1, \\sigma_\\text{emp})\n",
    "\\tag{8}\n",
    "$$\n",
    "over $C$ and $\\alpha > 0$. Set up the cost function in `JAX` and use some 2nd-order optimization algorithm.\n",
    "\n",
    "Don’t forget to compile your cost function as well as its gradients for speed-up. For starting point of the\n",
    "optimization algorithm, use some heuristic decomposition of $\\Sigma_\\text{emp}$ to the form of Eq. (2)."
   ]
  },
  {
   "cell_type": "code",
   "execution_count": 8,
   "metadata": {},
   "outputs": [],
   "source": [
    "import jax.numpy as jnp\n",
    "from jax import grad, jit\n",
    "from jax.scipy.optimize import minimize"
   ]
  },
  {
   "cell_type": "code",
   "execution_count": 9,
   "metadata": {},
   "outputs": [],
   "source": [
    "def negative_doubled_LL(Sigma, Sigma_empirical):\n",
    "    return jnp.trace(Sigma_empirical @ jnp.linalg.inv(Sigma)) + jnp.linalg.slogdet(Sigma)[1]"
   ]
  },
  {
   "cell_type": "code",
   "execution_count": 10,
   "metadata": {},
   "outputs": [],
   "source": [
    "def initial_guess(Sigma_empirical, rank: int):\n",
    "    \"\"\"Heuristic decomposition of covariance matrix\n",
    "    in a form Sigma = C @ C.T + alpha * I\n",
    "    using SVD decomposition\"\"\"\n",
    "\n",
    "    U, S, VT = jnp.linalg.svd(Sigma_empirical)\n",
    "    alpha = S[rank:].mean()\n",
    "    C = U[:, :rank] * jnp.sqrt(S[:rank] - alpha)\n",
    "    return jnp.hstack((alpha, C.flatten()))"
   ]
  },
  {
   "cell_type": "code",
   "execution_count": 11,
   "metadata": {},
   "outputs": [],
   "source": [
    "def find_optimal_covariance(Sigma_empirical, rank: int, method='BFGS'):\n",
    "    \"\"\"Finds maximum-likelehood covariance matrix\n",
    "    for multi-dimensional normal distribution\n",
    "    in the form Sigma = C @ C.T + alpha * I\n",
    "    where C is a matrix of shape (n_variables, rank) and alpha is a scalar.\"\"\"\n",
    "\n",
    "    n_variables = Sigma_empirical.shape[0]\n",
    "\n",
    "    @jit\n",
    "    def target_function(params):\n",
    "        \"\"\"Wrapper for negative_doubled_LL function\n",
    "        that takes a vector of parameters\n",
    "        [alpha, C_11, C_12, ..., C_nr]\n",
    "        and returns negative doubled log-likelihood\"\"\"\n",
    "        alpha = params[0]\n",
    "        C = params[1:].reshape((n_variables, rank))\n",
    "        Sigma = C @ C.T + alpha * jnp.eye(n_variables)\n",
    "        return negative_doubled_LL(Sigma, Sigma_empirical)\n",
    "\n",
    "    optimiz_result = minimize(target_function, initial_guess(Sigma_empirical, rank), method = method)\n",
    "\n",
    "    alpha = optimiz_result.x[0]\n",
    "    C = optimiz_result.x[1:].reshape((n_variables, rank))\n",
    "    Sigma = C @ C.T + alpha * jnp.eye(n_variables)\n",
    "\n",
    "    return Sigma, optimiz_result"
   ]
  },
  {
   "cell_type": "code",
   "execution_count": 12,
   "metadata": {},
   "outputs": [
    {
     "data": {
      "text/plain": [
       "Array([[ 1.9448285 ,  0.00573565,  0.13902299,  0.6531626 , -0.43983006,\n",
       "        -0.25791845,  0.15218566,  0.01295092,  0.09997412,  0.23420574,\n",
       "         0.2447613 ,  0.14591938, -0.38032365,  0.23381297,  0.50448745],\n",
       "       [ 0.00573565,  1.9799254 ,  0.18269144,  0.45970252, -0.33617106,\n",
       "        -0.12866504,  0.16885582,  0.29997277, -0.40292642, -0.5935469 ,\n",
       "         0.12161588,  0.33235413, -0.05351539, -0.39962494, -0.06802653],\n",
       "       [ 0.13902299,  0.18269144,  1.8673818 ,  0.61884546, -0.4328901 ,\n",
       "        -0.2122535 ,  0.18170185,  0.1889728 , -0.19281185, -0.2388335 ,\n",
       "         0.20113084,  0.27777284, -0.23023453, -0.12122595,  0.2209455 ],\n",
       "       [ 0.6531626 ,  0.45970252,  0.61884546,  3.9912207 , -1.5936537 ,\n",
       "        -0.83140594,  0.6305478 ,  0.48381284, -0.35970277, -0.31495607,\n",
       "         0.7882622 ,  0.861305  , -1.020829  , -0.02385674,  1.144727  ],\n",
       "       [-0.43983006, -0.33617106, -0.4328901 , -1.5936537 ,  2.786648  ,\n",
       "         0.5709269 , -0.43949887, -0.35276714,  0.27868366,  0.26597533,\n",
       "        -0.5412661 , -0.60961616,  0.691475  ,  0.05249776, -0.76372033],\n",
       "       [-0.25791845, -0.12866504, -0.2122535 , -0.83140594,  0.5709269 ,\n",
       "         1.9904324 , -0.2193997 , -0.13746941,  0.06961158,  0.01733596,\n",
       "        -0.29048684, -0.28126612,  0.39502978, -0.06294225, -0.46617126],\n",
       "       [ 0.15218566,  0.16885582,  0.18170185,  0.6305478 , -0.43949887,\n",
       "        -0.2193997 ,  1.8655963 ,  0.17531005, -0.16841082, -0.19840808,\n",
       "         0.2079357 ,  0.2694162 , -0.24727936, -0.09008477,  0.2501959 ],\n",
       "       [ 0.01295092,  0.29997277,  0.1889728 ,  0.48381284, -0.35276714,\n",
       "        -0.13746941,  0.17531005,  1.9885092 , -0.40564862, -0.59517694,\n",
       "         0.12996455,  0.34085205, -0.0646527 , -0.39863828, -0.05513671],\n",
       "       [ 0.09997412, -0.40292642, -0.19281185, -0.35970277,  0.27868366,\n",
       "         0.06961158, -0.16841082, -0.40564862,  2.2775342 ,  0.91011345,\n",
       "        -0.06539516, -0.39501852, -0.0839822 ,  0.6442504 ,  0.30186734],\n",
       "       [ 0.23420574, -0.5935469 , -0.2388335 , -0.31495607,  0.26597533,\n",
       "         0.01733596, -0.19840808, -0.59517694,  0.91011345,  3.1067657 ,\n",
       "        -0.01546837, -0.5353696 , -0.2502414 ,  1.0296227 ,  0.6134125 ],\n",
       "       [ 0.2447613 ,  0.12161588,  0.20113084,  0.7882622 , -0.5412661 ,\n",
       "        -0.29048684,  0.2079357 ,  0.12996455, -0.06539516, -0.01546837,\n",
       "         1.959595  ,  0.2663774 , -0.37480405,  0.06039614,  0.44252053],\n",
       "       [ 0.14591938,  0.33235413,  0.27777284,  0.861305  , -0.60961616,\n",
       "        -0.28126612,  0.2694162 ,  0.34085205, -0.39501852, -0.5353696 ,\n",
       "         0.2663774 ,  2.1321814 , -0.2631241 , -0.31971174,  0.19428082],\n",
       "       [-0.38032365, -0.05351539, -0.23023453, -1.020829  ,  0.691475  ,\n",
       "         0.39502978, -0.24727936, -0.0646527 , -0.0839822 , -0.2502414 ,\n",
       "        -0.37480405, -0.2631241 ,  2.2458255 , -0.27928013, -0.7238619 ],\n",
       "       [ 0.23381297, -0.39962494, -0.12122595, -0.02385674,  0.05249776,\n",
       "        -0.06294225, -0.09008477, -0.39863828,  0.6442504 ,  1.0296227 ,\n",
       "         0.06039614, -0.31971174, -0.27928013,  2.4479098 ,  0.5607561 ],\n",
       "       [ 0.50448745, -0.06802653,  0.2209455 ,  1.144727  , -0.76372033,\n",
       "        -0.46617126,  0.2501959 , -0.05513671,  0.30186734,  0.6134125 ,\n",
       "         0.44252053,  0.19428082, -0.7238619 ,  0.5607561 ,  2.681498  ]],      dtype=float32)"
      ]
     },
     "execution_count": 12,
     "metadata": {},
     "output_type": "execute_result"
    }
   ],
   "source": [
    "regularized_cov_X1, optimiz_result = find_optimal_covariance(naive_cov_X1, 2)\n",
    "\n",
    "regularized_cov_X1"
   ]
  },
  {
   "cell_type": "code",
   "execution_count": 13,
   "metadata": {},
   "outputs": [
    {
     "data": {
      "text/plain": [
       "Array(1, dtype=int32, weak_type=True)"
      ]
     },
     "execution_count": 13,
     "metadata": {},
     "output_type": "execute_result"
    }
   ],
   "source": [
    "# По какой-то причине nfev = 1,\n",
    "# т.е. было 0 итераций и \n",
    "# ответ совпадает с начальным приближением\n",
    "\n",
    "optimiz_result.nfev"
   ]
  },
  {
   "attachments": {},
   "cell_type": "markdown",
   "metadata": {},
   "source": [
    "### Part 4\n",
    "\n",
    "To better understand the approach to the case of missing data, consider analytically the case of\n",
    "one-step timeseries with single vector observation $x = (x_1,\\ \\text{nan},\\ x_3)$ and proposed covariance matrix\n",
    "$$\n",
    "\\Sigma = \\begin{pmatrix}\n",
    "1 & \\rho & \\rho \\\\\n",
    "\\rho & 1 & \\rho \\\\\n",
    "\\rho & \\rho & 1\n",
    "\\end{pmatrix}\n",
    "$$\n",
    "Integrate out unobserved value – compute $\\int P(x_1, x_2, x_3) dx_2$ analytically."
   ]
  },
  {
   "attachments": {},
   "cell_type": "markdown",
   "metadata": {},
   "source": [
    "Решение\n",
    "\n",
    "Если удалить из многомерного нормального распределения одну переменную, то оно останется нормальным. У оставшихся переменных сохранится среднее и ковариация.\n",
    "\n",
    "Поэтому при вычислении $\\int P(x_1, x_2, x_3) dx_2$  мы должны будем получить нормальное распределение с обрезанной матрицей ковариации:\n",
    "$$\n",
    "P(\\vec x') = \n",
    "(2\\pi)^{-(n-1)/2} \\det(\\Sigma')^{-1/2}\n",
    "\\exp\\biggl(\n",
    "    -\\frac12 x'^T \\Sigma'^{-1} x'\n",
    "\\biggr),\n",
    "$$\n",
    "где $x' = [x_1, x_3],$\n",
    "\n",
    "$\n",
    "\\Sigma' = \\begin{pmatrix}\n",
    "\\operatorname{cov}(x_1, x_1) & \\operatorname{cov}(x_1, x_3) \\\\\n",
    "\\operatorname{cov}(x_3, x_1) & \\operatorname{cov}(x_3, x_3) \n",
    "\\end{pmatrix}\n",
    "= \\begin{pmatrix}\n",
    "1 & \\rho \\\\\n",
    "\\rho & 1\n",
    "\\end{pmatrix}\n",
    "$"
   ]
  },
  {
   "attachments": {},
   "cell_type": "markdown",
   "metadata": {},
   "source": [
    "Этот факт можно доказать, используя следующее определение многомерной нормальной случайной величины: $x$ — нормальная случайная величина, если найдётся такая матрица $A$ и вектор $\\mu$, что\n",
    "$$x = A\\xi + \\mu,$$ \n",
    "где $\\xi$ — вектор из независимых стандартных нормальных случайных величин, $\\mathcal{N}(0, 1)$. \n",
    "\n",
    "В таком случае $\\Sigma = A^T A$.\n",
    "\n",
    "Для удаления переменной мы удаляем соответствующую строку из матрицы $A$ и соответствующий элемент из вектора $\\mu$. В результате из $\\Sigma$ удаляется строка и столбец, соответствующие удалённой переменной, а остальные элементы остаются неизменными; распределение остаётся нормальным.\n",
    "\n",
    "Так мы получили ответ, не выполняя интегрирование непосредственно."
   ]
  },
  {
   "attachments": {},
   "cell_type": "markdown",
   "metadata": {},
   "source": [
    "### Part 5\n",
    "\n",
    "Generalize the previous approach for arbitrary pattern of the missing data. Set up the corresponding\n",
    "cost function for the timeseries-2 and optimize it over Σ, similarly to the case of the timeseries-1."
   ]
  },
  {
   "attachments": {},
   "cell_type": "markdown",
   "metadata": {},
   "source": [
    "Пройдёмся по всем наблюдениям и посчитаем правдоподобие для каждого из них, используя полученную выше формулу с урезанной матрицей $\\Sigma'$.\n",
    "\n",
    "К сожалению, `JAX` не умеет работать с матрицами переменной размерности, поэтому придётся обойтись без автодифференциирования и использовать `numpy`.\n",
    "\n",
    "Что-то находится."
   ]
  },
  {
   "cell_type": "code",
   "execution_count": 44,
   "metadata": {},
   "outputs": [],
   "source": [
    "from scipy.stats import multivariate_normal"
   ]
  },
  {
   "cell_type": "code",
   "execution_count": 45,
   "metadata": {},
   "outputs": [],
   "source": [
    "def negative_doubled_LL_for_single_measurement_with_nans(Sigma, x):\n",
    "    nan_positions = np.isnan(x)\n",
    "    x = x[~nan_positions]\n",
    "    Sigma = Sigma[~nan_positions, :][:, ~nan_positions]\n",
    "    return multivariate_normal.logpdf(x, np.zeros_like(x), Sigma)"
   ]
  },
  {
   "cell_type": "code",
   "execution_count": 46,
   "metadata": {},
   "outputs": [],
   "source": [
    "from scipy.optimize import minimize as minimize_scipy"
   ]
  },
  {
   "cell_type": "code",
   "execution_count": 52,
   "metadata": {},
   "outputs": [],
   "source": [
    "def find_optimal_covariance_with_missing_values(X, rank: int, method='cobyla'):\n",
    "\n",
    "    n_variables = X.shape[1]\n",
    "\n",
    "    def target_function(params):\n",
    "        \"\"\"Wrapper for negative_doubled_LL function\n",
    "        that takes a vector of parameters\n",
    "        [alpha, C_11, C_12, ..., C_nr]\n",
    "        and returns negative doubled log-likelihood\"\"\"\n",
    "        alpha = params[0]\n",
    "        C = params[1:].reshape((n_variables, rank))\n",
    "        Sigma = C @ C.T + alpha * np.eye(n_variables)\n",
    "\n",
    "        return sum(negative_doubled_LL_for_single_measurement_with_nans(Sigma, x) for x in X)\n",
    "\n",
    "\n",
    "    X_masked = np.ma.masked_invalid(X)\n",
    "    Sigma_empirical = np.ma.cov(X_masked.T)\n",
    "\n",
    "    optimiz_result = minimize_scipy(target_function, initial_guess(Sigma_empirical, rank), method = method)\n",
    "\n",
    "    alpha = optimiz_result.x[0]\n",
    "    C = optimiz_result.x[1:].reshape((n_variables, rank))\n",
    "    Sigma = C @ C.T + alpha * np.eye(n_variables)\n",
    "\n",
    "    return Sigma, optimiz_result"
   ]
  },
  {
   "cell_type": "code",
   "execution_count": 61,
   "metadata": {},
   "outputs": [
    {
     "data": {
      "text/plain": [
       "array([[ 9910.37815947,  4714.60466397,  6641.57752699,  7614.39510964,\n",
       "         6503.83885158,  6389.40762871,  4815.15934583, -2089.21728016,\n",
       "         6269.15450435,  5376.34154976,  6934.4593213 ,  1555.23623094,\n",
       "        -3487.50449662, -2708.31445264,  6871.36569543],\n",
       "       [ 4714.60466397,  3846.64720538,  2717.31021151,  4185.32955208,\n",
       "         2604.85314644,  3486.85794918,  2778.59740678, -1460.1976194 ,\n",
       "         3899.67062738,  1477.90647071,  3793.35284744,  3545.81003051,\n",
       "         2717.91213605,  2144.54892719,  5974.32589379],\n",
       "       [ 6641.57752699,  2717.31021151,  5643.11595874,  5156.95392013,\n",
       "         5042.4701325 ,  4343.84308257,  3174.43170563, -1209.96605483,\n",
       "         3947.59042622,  4612.26640443,  4708.45004796,  -715.58195461,\n",
       "        -5408.6568725 , -4222.50855939,  3209.27145015],\n",
       "       [ 7614.39510964,  4185.32955208,  5156.95392013,  6848.76453362,\n",
       "         5028.77279179,  5291.42712244,  4044.7902134 , -1851.32248411,\n",
       "         5372.90004693,  3901.40124498,  5746.23868039,  2308.66832399,\n",
       "        -1139.36544726,  -871.98220661,  6532.39107988],\n",
       "       [ 6503.83885158,  2604.85314644,  5042.4701325 ,  5028.77279179,\n",
       "         5508.85578939,  4237.4332023 ,  3087.34211493, -1160.537284  ,\n",
       "         3821.30671999,  4589.30813415,  4592.54915887,  -864.80677994,\n",
       "        -5561.87643135, -4343.04453435,  2993.12209907],\n",
       "       [ 6389.40762871,  3486.85794918,  4343.84308257,  5291.42712244,\n",
       "         4237.4332023 ,  4964.353939  ,  3384.54659299, -1542.57883388,\n",
       "         4488.61306867,  3306.33320628,  4813.61537189,  1863.72260839,\n",
       "        -1075.01104218,  -824.97028636,  5414.42831847],\n",
       "       [ 4815.15934583,  2778.59740678,  3174.43170563,  4044.7902134 ,\n",
       "         3087.34211493,  3384.54659299,  3139.31462897, -1227.94322818,\n",
       "         3502.11038329,  2296.24933914,  3676.69455035,  1845.65631236,\n",
       "          -96.58911283,   -62.17217789,  4482.61240818],\n",
       "       [-2089.21728016, -1460.1976194 , -1209.96605483, -1851.32248411,\n",
       "        -1160.537284  , -1542.57883388, -1227.94322818,  1174.74090062,\n",
       "        -1721.07489589,  -666.39653933, -1678.09343043, -1545.36919761,\n",
       "        -1162.49422803,  -917.46254659, -2623.82090599],\n",
       "       [ 6269.15450435,  3899.67062738,  3947.59042622,  5372.90004693,\n",
       "         3821.30671999,  4488.61306867,  3502.11038329, -1721.07489589,\n",
       "         5314.41549404,  2624.17732025,  4878.6785064 ,  3227.76424194,\n",
       "         1208.40991704,   965.24619104,  6588.22501816],\n",
       "       [ 5376.34154976,  1477.90647071,  4612.26640443,  3901.40124498,\n",
       "         4589.30813415,  3306.33320628,  2296.24933914,  -666.39653933,\n",
       "         2624.17732025,  5200.33136688,  3576.65954119, -2689.90899272,\n",
       "        -7792.43998222, -6095.32865951,   673.43382352],\n",
       "       [ 6934.4593213 ,  3793.35284744,  4708.45004796,  5746.23868039,\n",
       "         4592.54915887,  4813.61537189,  3676.69455035, -1678.09343043,\n",
       "         4878.6785064 ,  3576.65954119,  5758.70287217,  2049.16409425,\n",
       "        -1123.92118722,  -861.7875073 ,  5900.43088296],\n",
       "       [ 1555.23623094,  3545.81003051,  -715.58195461,  2308.66832399,\n",
       "         -864.80677994,  1863.72260839,  1845.65631236, -1545.36919761,\n",
       "         3227.76424194, -2689.90899272,  2049.16409425,  8872.3579433 ,\n",
       "        12496.51950005,  9803.58733318,  8509.37316944],\n",
       "       [-3487.50449662,  2717.91213605, -5408.6568725 , -1139.36544726,\n",
       "        -5561.87643135, -1075.01104218,   -96.58911283, -1162.49422803,\n",
       "         1208.40991704, -7792.43998222, -1123.92118722, 12496.51950005,\n",
       "        22977.94568948, 17591.64631043,  9366.38212827],\n",
       "       [-2708.31445264,  2144.54892719, -4222.50855939,  -871.98220661,\n",
       "        -4343.04453435,  -824.97028636,   -62.17217789,  -917.46254659,\n",
       "          965.24619104, -6095.32865951,  -861.7875073 ,  9803.58733318,\n",
       "        17591.64631043, 14318.4571019 ,  7364.05563202],\n",
       "       [ 6871.36569543,  5974.32589379,  3209.27145015,  6532.39107988,\n",
       "         2993.12209907,  5414.42831847,  4482.61240818, -2623.82090599,\n",
       "         6588.22501816,   673.43382352,  5900.43088296,  8509.37316944,\n",
       "         9366.38212827,  7364.05563202, 12285.60650724]])"
      ]
     },
     "execution_count": 61,
     "metadata": {},
     "output_type": "execute_result"
    }
   ],
   "source": [
    "regularized_cov_X2, optimiz_result = find_optimal_covariance_with_missing_values(X2, 2, 'cobyla')\n",
    "\n",
    "regularized_cov_X2"
   ]
  },
  {
   "cell_type": "code",
   "execution_count": 62,
   "metadata": {},
   "outputs": [
    {
     "data": {
      "text/plain": [
       " message: Maximum number of function evaluations has been exceeded.\n",
       " success: False\n",
       "  status: 2\n",
       "     fun: -1086.93047072318\n",
       "       x: [ 5.315e+02  3.279e+01 ...  1.012e+02  3.901e+01]\n",
       "    nfev: 1000\n",
       "   maxcv: 0.0"
      ]
     },
     "execution_count": 62,
     "metadata": {},
     "output_type": "execute_result"
    }
   ],
   "source": [
    "optimiz_result"
   ]
  },
  {
   "cell_type": "code",
   "execution_count": null,
   "metadata": {},
   "outputs": [],
   "source": []
  }
 ],
 "metadata": {
  "kernelspec": {
   "display_name": "nummethods",
   "language": "python",
   "name": "python3"
  },
  "language_info": {
   "codemirror_mode": {
    "name": "ipython",
    "version": 3
   },
   "file_extension": ".py",
   "mimetype": "text/x-python",
   "name": "python",
   "nbconvert_exporter": "python",
   "pygments_lexer": "ipython3",
   "version": "3.11.3"
  },
  "orig_nbformat": 4
 },
 "nbformat": 4,
 "nbformat_minor": 2
}
