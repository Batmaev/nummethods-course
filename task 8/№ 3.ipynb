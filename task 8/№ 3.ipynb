{
 "cells": [
  {
   "attachments": {},
   "cell_type": "markdown",
   "metadata": {},
   "source": [
    "## № 3"
   ]
  },
  {
   "attachments": {},
   "cell_type": "markdown",
   "metadata": {},
   "source": [
    "Consider trading a universe of $n$ stocks over $T$ days, with noisy predictions for the stock returns $p_{ti}$ available in `pred.npy` (the rows are days, the data start with day 0). Assuming that we have the position evolving as $\\pi_t$ ($\\pi_t$ at each $t$ is a vector of $n$ components), expected risk-adjusted gain $G$ reads\n",
    "$$\n",
    "G = \\sum_{t} \\left[p_{t} \\cdot\\pi_{t} - \\pi_{t}^T \\cdot \\Omega \\cdot \\pi_{t} - \\gamma\\sum_i |\\pi_{t,i} - \\pi_{t-1,i}|\\right]\n",
    "\\tag{12}\n",
    "$$\n",
    "and has to be maximized over $\\pi_t$ (pick $\\gamma=0.01$). The matrix $\\Omega$ is in the `cov.npy` file."
   ]
  },
  {
   "cell_type": "code",
   "execution_count": 3,
   "metadata": {},
   "outputs": [],
   "source": [
    "import numpy as np"
   ]
  },
  {
   "cell_type": "code",
   "execution_count": 4,
   "metadata": {},
   "outputs": [],
   "source": [
    "pred = np.load('pred.npy')\n",
    "Omega = np.load('cov.npy')"
   ]
  },
  {
   "attachments": {},
   "cell_type": "markdown",
   "metadata": {},
   "source": [
    "### Part 1\n",
    "\n",
    "Start with $t=1$ ($\\pi_0=0$ by definition). At this moment, you have access to $p_1$ and have to maximize:\n",
    "$$\n",
    "p_1\\pi_1 - \\pi_1^T\\Omega\\pi_1 - \\gamma \\sum_i |\\pi_{1, i} - 0|\\longrightarrow \\max\n",
    "$$\n",
    "over $\\pi_1$. Show that this is a concave function of $\\pi_1$ and maximize it using $\\texttt{cvxpy}$."
   ]
  },
  {
   "cell_type": "code",
   "execution_count": 5,
   "metadata": {},
   "outputs": [],
   "source": [
    "import cvxpy as cp"
   ]
  },
  {
   "cell_type": "code",
   "execution_count": 10,
   "metadata": {},
   "outputs": [],
   "source": [
    "gamma = 0.01"
   ]
  },
  {
   "cell_type": "code",
   "execution_count": 49,
   "metadata": {},
   "outputs": [
    {
     "data": {
      "text/plain": [
       "Maximize(Expression(CONCAVE, UNKNOWN, (1, 1)))"
      ]
     },
     "execution_count": 49,
     "metadata": {},
     "output_type": "execute_result"
    }
   ],
   "source": [
    "pi_t = cp.Variable(pred.shape[1])\n",
    "\n",
    "objective = cp.Maximize(\n",
    "    pred[0] @ pi_t -\n",
    "    cp.quad_form(pi_t, Omega) -\n",
    "    gamma * cp.norm(pi_t, 1)\n",
    ")\n",
    "\n",
    "objective # cvxpy проверил и говорит, что задача concave"
   ]
  },
  {
   "cell_type": "code",
   "execution_count": 50,
   "metadata": {},
   "outputs": [
    {
     "data": {
      "text/plain": [
       "0.45008068834266435"
      ]
     },
     "execution_count": 50,
     "metadata": {},
     "output_type": "execute_result"
    }
   ],
   "source": [
    "cp.Problem(objective).solve()"
   ]
  },
  {
   "cell_type": "code",
   "execution_count": 51,
   "metadata": {},
   "outputs": [
    {
     "data": {
      "text/plain": [
       "array([ 1.57942466e-21,  8.46907744e+00, -8.32919392e-22,  4.68450576e-22,\n",
       "       -1.98622872e-01, -1.90055041e+00, -1.02172722e-22,  7.05994196e-22,\n",
       "        2.04096356e+00, -2.82280157e+00,  1.61320433e+00, -2.63921215e-21,\n",
       "       -3.41401160e+00, -1.75265939e-21,  2.91228126e+00,  1.31637858e+01,\n",
       "        2.59319297e-21,  4.86795951e+00,  3.93783458e-21, -2.27531951e-21])"
      ]
     },
     "execution_count": 51,
     "metadata": {},
     "output_type": "execute_result"
    }
   ],
   "source": [
    "pi_t.value"
   ]
  },
  {
   "attachments": {},
   "cell_type": "markdown",
   "metadata": {},
   "source": [
    "### Part 2\n",
    "\n",
    "At $t=2$ you already know $\\pi_1$. At this moment, you have access to $p_2$ and have to maximize:\n",
    "$$\n",
    "p_2\\pi_2 - \\pi_2^T\\Omega\\pi_2 - \\gamma \\sum_i |\\pi_{2, i} - \\pi_{1, i}|\\longrightarrow \\max\n",
    "$$\n",
    "Repeat the process until you reach the end of the time series. The corresponding $\\pi_{ti}$ should be stored as a file: this will be you 1st result in this problem. "
   ]
  },
  {
   "cell_type": "code",
   "execution_count": 61,
   "metadata": {},
   "outputs": [],
   "source": [
    "def greedy_pi(pred, Omega, gamma):\n",
    "    pi_value = np.zeros(pred.shape)\n",
    "    pi_t = cp.Variable(pred.shape[1])\n",
    "\n",
    "    for t in range(pred.shape[0]):\n",
    "        if t == 0:\n",
    "            pi_prev_value = np.zeros(pi_t.shape)\n",
    "        else:\n",
    "            pi_prev_value = pi_value[t - 1]\n",
    "\n",
    "        objective = cp.Maximize(\n",
    "            pred[t] @ pi_t -\n",
    "            cp.quad_form(pi_t, Omega) -\n",
    "            gamma * cp.norm(pi_t - pi_prev_value, 1)\n",
    "        )\n",
    "        cp.Problem(objective).solve()\n",
    "        pi_value[t] = pi_t.value\n",
    "\n",
    "    return pi_value"
   ]
  },
  {
   "cell_type": "code",
   "execution_count": 84,
   "metadata": {},
   "outputs": [
    {
     "data": {
      "text/plain": [
       "array([[ 1.57942466e-21,  8.46907744e+00, -8.32919392e-22, ...,\n",
       "         4.86795951e+00,  3.93783458e-21, -2.27531951e-21],\n",
       "       [ 1.69351237e-01,  1.02856449e+01, -1.57256530e-21, ...,\n",
       "         4.86795951e+00,  4.07699385e-01, -2.62447167e-21],\n",
       "       [ 7.26708910e-01,  1.02856449e+01, -1.50220112e-21, ...,\n",
       "         4.86795951e+00,  4.07699385e-01, -1.11387329e-01],\n",
       "       ...,\n",
       "       [ 2.83454931e+00, -2.95594178e+00,  7.97091775e+00, ...,\n",
       "         6.21879847e-01,  1.72797980e-01,  7.81929680e-01],\n",
       "       [ 3.68255271e+00, -6.42039963e+00,  7.97091775e+00, ...,\n",
       "         6.21879847e-01,  1.72797980e-01,  7.81929680e-01],\n",
       "       [ 3.68255271e+00, -6.42039963e+00,  7.97091775e+00, ...,\n",
       "         6.21879847e-01,  1.72797980e-01,  7.81929680e-01]])"
      ]
     },
     "execution_count": 84,
     "metadata": {},
     "output_type": "execute_result"
    }
   ],
   "source": [
    "greedy_pi_value = greedy_pi(pred, Omega, gamma)\n",
    "greedy_pi_value"
   ]
  },
  {
   "cell_type": "code",
   "execution_count": 85,
   "metadata": {},
   "outputs": [],
   "source": [
    "np.save('greedy_pi.npy', greedy_pi_value)"
   ]
  },
  {
   "attachments": {},
   "cell_type": "markdown",
   "metadata": {},
   "source": [
    "### Part 3\n",
    "\n",
    "considering the case of $\\gamma=0$: in this case, optimization of $G$ can be done directly. Make sure the result of such direct computation coincides with $\\texttt{cvxpy}$ result. The corresponding $\\pi_{ti}$ should be stored as a file: this will be your 2nd result in this problem."
   ]
  },
  {
   "attachments": {},
   "cell_type": "markdown",
   "metadata": {},
   "source": [
    "Решение\n",
    "\n",
    "При $\\gamma = 0$:\n",
    "$$\n",
    "G = \\sum_{t} \\left[p_t \\cdot\\pi_{t} - \\pi_t^T \\Omega \\pi_t \\right]\n",
    "$$\n",
    "\n",
    "Производная по $\\pi_t$:\n",
    "$$\n",
    "\\frac{\\partial G}{\\partial \\pi_t} = p_t - 2 \\Omega \\pi_t = \\vec 0\n",
    "$$\n",
    "Следовательно,\n",
    "$$\n",
    "\\pi_t = \\frac{1}{2} \\Omega^{-1} p_t\n",
    "$$"
   ]
  },
  {
   "cell_type": "code",
   "execution_count": 76,
   "metadata": {},
   "outputs": [],
   "source": [
    "def loseless_pi(pred, Omega):\n",
    "    return 0.5 * np.linalg.solve([Omega], pred)"
   ]
  },
  {
   "cell_type": "code",
   "execution_count": 86,
   "metadata": {},
   "outputs": [],
   "source": [
    "loseless_pi_value = loseless_pi(pred, Omega)"
   ]
  },
  {
   "cell_type": "code",
   "execution_count": 89,
   "metadata": {},
   "outputs": [],
   "source": [
    "greedy_pi_0_value = greedy_pi(pred, Omega, 0)"
   ]
  },
  {
   "cell_type": "code",
   "execution_count": 91,
   "metadata": {},
   "outputs": [
    {
     "data": {
      "text/plain": [
       "False"
      ]
     },
     "execution_count": 91,
     "metadata": {},
     "output_type": "execute_result"
    }
   ],
   "source": [
    "# Ответы получились разные\n",
    "np.isclose(loseless_pi_value, greedy_pi_0_value).all()"
   ]
  },
  {
   "cell_type": "code",
   "execution_count": 92,
   "metadata": {},
   "outputs": [
    {
     "data": {
      "text/plain": [
       "0.009108310576557144"
      ]
     },
     "execution_count": 92,
     "metadata": {},
     "output_type": "execute_result"
    }
   ],
   "source": [
    "# Но разница между ними мала\n",
    "np.abs(loseless_pi_value - greedy_pi_0_value).max()"
   ]
  },
  {
   "cell_type": "code",
   "execution_count": 93,
   "metadata": {},
   "outputs": [],
   "source": [
    "np.save('loseless_pi.npy', loseless_pi_value)"
   ]
  },
  {
   "attachments": {},
   "cell_type": "markdown",
   "metadata": {},
   "source": [
    "### Part 4\n",
    "\n",
    "Compute expected gain/costs (the 1st and the 3rd terms in Eq. (12) over the full period for two trading strategies computed above (note that the trading costs are present even if you decided to optimize at $\\gamma=0$)."
   ]
  },
  {
   "cell_type": "code",
   "execution_count": 98,
   "metadata": {},
   "outputs": [],
   "source": [
    "def gain(pi, pred):\n",
    "    return np.sum(pi * pred)"
   ]
  },
  {
   "cell_type": "code",
   "execution_count": 119,
   "metadata": {},
   "outputs": [],
   "source": [
    "def risk(pi, Omega):\n",
    "    return np.einsum('ti, ij, tj -> ', pi, Omega, pi)"
   ]
  },
  {
   "cell_type": "code",
   "execution_count": 107,
   "metadata": {},
   "outputs": [],
   "source": [
    "def cost(pi, gamma):\n",
    "    deltas = np.diff(pi, axis=0)\n",
    "    return np.sum(np.linalg.norm(deltas, ord=1, axis=1)) * gamma"
   ]
  },
  {
   "cell_type": "code",
   "execution_count": 124,
   "metadata": {},
   "outputs": [
    {
     "data": {
      "text/plain": [
       "(897.2986739223626, 35.08880299488907)"
      ]
     },
     "execution_count": 124,
     "metadata": {},
     "output_type": "execute_result"
    }
   ],
   "source": [
    "gain(greedy_pi_value, pred), cost(greedy_pi_value, gamma)"
   ]
  },
  {
   "cell_type": "code",
   "execution_count": 125,
   "metadata": {},
   "outputs": [
    {
     "data": {
      "text/plain": [
       "(1121.4631963361019, 177.15754952691802)"
      ]
     },
     "execution_count": 125,
     "metadata": {},
     "output_type": "execute_result"
    }
   ],
   "source": [
    "gain(loseless_pi_value, pred), cost(loseless_pi_value, gamma)"
   ]
  },
  {
   "cell_type": "code",
   "execution_count": 126,
   "metadata": {},
   "outputs": [],
   "source": [
    "def regret(pi, pred, Omega, gamma):\n",
    "    return gain(pi, pred) - risk(pi, Omega) - cost(pi, gamma)"
   ]
  },
  {
   "cell_type": "code",
   "execution_count": 127,
   "metadata": {},
   "outputs": [
    {
     "data": {
      "text/plain": [
       "414.18677080743606"
      ]
     },
     "execution_count": 127,
     "metadata": {},
     "output_type": "execute_result"
    }
   ],
   "source": [
    "regret(greedy_pi_value, pred, Omega, gamma)"
   ]
  },
  {
   "cell_type": "code",
   "execution_count": 128,
   "metadata": {},
   "outputs": [
    {
     "data": {
      "text/plain": [
       "383.5740486411329"
      ]
     },
     "execution_count": 128,
     "metadata": {},
     "output_type": "execute_result"
    }
   ],
   "source": [
    "regret(loseless_pi_value, pred, Omega, gamma)"
   ]
  },
  {
   "cell_type": "code",
   "execution_count": null,
   "metadata": {},
   "outputs": [],
   "source": []
  }
 ],
 "metadata": {
  "kernelspec": {
   "display_name": "nummethods",
   "language": "python",
   "name": "python3"
  },
  "language_info": {
   "codemirror_mode": {
    "name": "ipython",
    "version": 3
   },
   "file_extension": ".py",
   "mimetype": "text/x-python",
   "name": "python",
   "nbconvert_exporter": "python",
   "pygments_lexer": "ipython3",
   "version": "3.11.3"
  },
  "orig_nbformat": 4
 },
 "nbformat": 4,
 "nbformat_minor": 2
}
